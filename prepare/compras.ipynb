{
 "cells": [
  {
   "cell_type": "code",
   "execution_count": 8,
   "metadata": {},
   "outputs": [],
   "source": [
    "#!pip install matplotlib\n",
    "#!pip install seaborn"
   ]
  },
  {
   "cell_type": "code",
   "execution_count": 9,
   "metadata": {},
   "outputs": [],
   "source": [
    "import numpy  as np\n",
    "import pandas as pd \n",
    "\n",
    "import matplotlib.dates as mdates\n",
    "import seaborn as sns \n",
    "\n",
    "import warnings\n",
    "warnings.filterwarnings(\"ignore\")\n",
    "from numpy import dot\n",
    "from numpy.linalg import norm"
   ]
  },
  {
   "cell_type": "code",
   "execution_count": 10,
   "metadata": {},
   "outputs": [],
   "source": [
    "path         = '../data/'\n",
    "data         = 'compras.csv'\n",
    "df_compras   = pd.read_csv(path + data, encoding=\"utf-8\", dtype=str)"
   ]
  },
  {
   "cell_type": "code",
   "execution_count": 11,
   "metadata": {},
   "outputs": [
    {
     "data": {
      "text/html": [
       "<div>\n",
       "<style scoped>\n",
       "    .dataframe tbody tr th:only-of-type {\n",
       "        vertical-align: middle;\n",
       "    }\n",
       "\n",
       "    .dataframe tbody tr th {\n",
       "        vertical-align: top;\n",
       "    }\n",
       "\n",
       "    .dataframe thead th {\n",
       "        text-align: right;\n",
       "    }\n",
       "</style>\n",
       "<table border=\"1\" class=\"dataframe\">\n",
       "  <thead>\n",
       "    <tr style=\"text-align: right;\">\n",
       "      <th></th>\n",
       "      <th>data_publicacao</th>\n",
       "      <th>processo</th>\n",
       "      <th>valor_estimado</th>\n",
       "      <th>href_itens</th>\n",
       "    </tr>\n",
       "  </thead>\n",
       "  <tbody>\n",
       "    <tr>\n",
       "      <th>0</th>\n",
       "      <td>2019-02-04T00:00:00</td>\n",
       "      <td>23067.066479/201</td>\n",
       "      <td>150000.0</td>\n",
       "      <td>/compraSemLicitacao/id/item_slicitacao/1530450...</td>\n",
       "    </tr>\n",
       "    <tr>\n",
       "      <th>1</th>\n",
       "      <td>2019-02-07T00:00:00</td>\n",
       "      <td>44103/2018-40</td>\n",
       "      <td>7839110.0</td>\n",
       "      <td>/compraSemLicitacao/id/item_slicitacao/1530450...</td>\n",
       "    </tr>\n",
       "    <tr>\n",
       "      <th>2</th>\n",
       "      <td>2019-02-22T00:00:00</td>\n",
       "      <td>048813/2018-49</td>\n",
       "      <td>756804.0</td>\n",
       "      <td>/compraSemLicitacao/id/item_slicitacao/1530450...</td>\n",
       "    </tr>\n",
       "    <tr>\n",
       "      <th>3</th>\n",
       "      <td>2019-02-25T00:00:00</td>\n",
       "      <td>23167/2017-26</td>\n",
       "      <td>384000.0</td>\n",
       "      <td>/compraSemLicitacao/id/item_slicitacao/1530450...</td>\n",
       "    </tr>\n",
       "    <tr>\n",
       "      <th>4</th>\n",
       "      <td>2019-03-06T00:00:00</td>\n",
       "      <td>69400/2018-06</td>\n",
       "      <td>576000.0</td>\n",
       "      <td>/compraSemLicitacao/id/item_slicitacao/1530450...</td>\n",
       "    </tr>\n",
       "  </tbody>\n",
       "</table>\n",
       "</div>"
      ],
      "text/plain": [
       "       data_publicacao           processo valor_estimado  \\\n",
       "0  2019-02-04T00:00:00   23067.066479/201       150000.0   \n",
       "1  2019-02-07T00:00:00  44103/2018-40          7839110.0   \n",
       "2  2019-02-22T00:00:00  048813/2018-49          756804.0   \n",
       "3  2019-02-25T00:00:00  23167/2017-26           384000.0   \n",
       "4  2019-03-06T00:00:00  69400/2018-06           576000.0   \n",
       "\n",
       "                                          href_itens  \n",
       "0  /compraSemLicitacao/id/item_slicitacao/1530450...  \n",
       "1  /compraSemLicitacao/id/item_slicitacao/1530450...  \n",
       "2  /compraSemLicitacao/id/item_slicitacao/1530450...  \n",
       "3  /compraSemLicitacao/id/item_slicitacao/1530450...  \n",
       "4  /compraSemLicitacao/id/item_slicitacao/1530450...  "
      ]
     },
     "execution_count": 11,
     "metadata": {},
     "output_type": "execute_result"
    }
   ],
   "source": [
    "df_compras.head()"
   ]
  },
  {
   "cell_type": "code",
   "execution_count": 13,
   "metadata": {},
   "outputs": [],
   "source": [
    " df_compras.href_itens = df_compras.href_itens.astype(str)"
   ]
  },
  {
   "cell_type": "code",
   "execution_count": 18,
   "metadata": {},
   "outputs": [],
   "source": [
    "def compra(txt):\n",
    "    return (txt.split('/')[4])"
   ]
  },
  {
   "cell_type": "code",
   "execution_count": 19,
   "metadata": {},
   "outputs": [],
   "source": [
    "df_compras['compra']  =  df_compras['href_itens'].apply(lambda x: compra((x)))"
   ]
  },
  {
   "cell_type": "code",
   "execution_count": 20,
   "metadata": {},
   "outputs": [
    {
     "data": {
      "text/html": [
       "<div>\n",
       "<style scoped>\n",
       "    .dataframe tbody tr th:only-of-type {\n",
       "        vertical-align: middle;\n",
       "    }\n",
       "\n",
       "    .dataframe tbody tr th {\n",
       "        vertical-align: top;\n",
       "    }\n",
       "\n",
       "    .dataframe thead th {\n",
       "        text-align: right;\n",
       "    }\n",
       "</style>\n",
       "<table border=\"1\" class=\"dataframe\">\n",
       "  <thead>\n",
       "    <tr style=\"text-align: right;\">\n",
       "      <th></th>\n",
       "      <th>data_publicacao</th>\n",
       "      <th>processo</th>\n",
       "      <th>valor_estimado</th>\n",
       "      <th>href_itens</th>\n",
       "      <th>compra</th>\n",
       "    </tr>\n",
       "  </thead>\n",
       "  <tbody>\n",
       "    <tr>\n",
       "      <th>0</th>\n",
       "      <td>2019-02-04T00:00:00</td>\n",
       "      <td>23067.066479/201</td>\n",
       "      <td>150000.0</td>\n",
       "      <td>/compraSemLicitacao/id/item_slicitacao/1530450...</td>\n",
       "      <td>15304507000012019</td>\n",
       "    </tr>\n",
       "    <tr>\n",
       "      <th>1</th>\n",
       "      <td>2019-02-07T00:00:00</td>\n",
       "      <td>44103/2018-40</td>\n",
       "      <td>7839110.0</td>\n",
       "      <td>/compraSemLicitacao/id/item_slicitacao/1530450...</td>\n",
       "      <td>15304506000032019</td>\n",
       "    </tr>\n",
       "    <tr>\n",
       "      <th>2</th>\n",
       "      <td>2019-02-22T00:00:00</td>\n",
       "      <td>048813/2018-49</td>\n",
       "      <td>756804.0</td>\n",
       "      <td>/compraSemLicitacao/id/item_slicitacao/1530450...</td>\n",
       "      <td>15304506000072019</td>\n",
       "    </tr>\n",
       "    <tr>\n",
       "      <th>3</th>\n",
       "      <td>2019-02-25T00:00:00</td>\n",
       "      <td>23167/2017-26</td>\n",
       "      <td>384000.0</td>\n",
       "      <td>/compraSemLicitacao/id/item_slicitacao/1530450...</td>\n",
       "      <td>15304506000082019</td>\n",
       "    </tr>\n",
       "    <tr>\n",
       "      <th>4</th>\n",
       "      <td>2019-03-06T00:00:00</td>\n",
       "      <td>69400/2018-06</td>\n",
       "      <td>576000.0</td>\n",
       "      <td>/compraSemLicitacao/id/item_slicitacao/1530450...</td>\n",
       "      <td>15304506000102019</td>\n",
       "    </tr>\n",
       "  </tbody>\n",
       "</table>\n",
       "</div>"
      ],
      "text/plain": [
       "       data_publicacao           processo valor_estimado  \\\n",
       "0  2019-02-04T00:00:00   23067.066479/201       150000.0   \n",
       "1  2019-02-07T00:00:00  44103/2018-40          7839110.0   \n",
       "2  2019-02-22T00:00:00  048813/2018-49          756804.0   \n",
       "3  2019-02-25T00:00:00  23167/2017-26           384000.0   \n",
       "4  2019-03-06T00:00:00  69400/2018-06           576000.0   \n",
       "\n",
       "                                          href_itens             compra  \n",
       "0  /compraSemLicitacao/id/item_slicitacao/1530450...  15304507000012019  \n",
       "1  /compraSemLicitacao/id/item_slicitacao/1530450...  15304506000032019  \n",
       "2  /compraSemLicitacao/id/item_slicitacao/1530450...  15304506000072019  \n",
       "3  /compraSemLicitacao/id/item_slicitacao/1530450...  15304506000082019  \n",
       "4  /compraSemLicitacao/id/item_slicitacao/1530450...  15304506000102019  "
      ]
     },
     "execution_count": 20,
     "metadata": {},
     "output_type": "execute_result"
    }
   ],
   "source": [
    "df_compras.head()"
   ]
  },
  {
   "cell_type": "code",
   "execution_count": null,
   "metadata": {},
   "outputs": [],
   "source": [
    "df_compras = df_compras[['']]"
   ]
  }
 ],
 "metadata": {
  "kernelspec": {
   "display_name": "Python 3",
   "language": "python",
   "name": "python3"
  },
  "language_info": {
   "codemirror_mode": {
    "name": "ipython",
    "version": 3
   },
   "file_extension": ".py",
   "mimetype": "text/x-python",
   "name": "python",
   "nbconvert_exporter": "python",
   "pygments_lexer": "ipython3",
   "version": "3.6.9"
  }
 },
 "nbformat": 4,
 "nbformat_minor": 4
}
