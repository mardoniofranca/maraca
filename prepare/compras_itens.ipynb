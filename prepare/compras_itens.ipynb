{
 "cells": [
  {
   "cell_type": "code",
   "execution_count": 2,
   "metadata": {},
   "outputs": [],
   "source": [
    "#!pip install matplotlib\n",
    "#!pip install seaborn"
   ]
  },
  {
   "cell_type": "code",
   "execution_count": 24,
   "metadata": {},
   "outputs": [],
   "source": [
    "import locale"
   ]
  },
  {
   "cell_type": "code",
   "execution_count": 3,
   "metadata": {},
   "outputs": [],
   "source": [
    "import numpy  as np\n",
    "import pandas as pd \n",
    "\n",
    "import matplotlib.dates as mdates\n",
    "import seaborn as sns \n",
    "\n",
    "import warnings\n",
    "warnings.filterwarnings(\"ignore\")\n",
    "from numpy import dot\n",
    "from numpy.linalg import norm"
   ]
  },
  {
   "cell_type": "code",
   "execution_count": 4,
   "metadata": {},
   "outputs": [],
   "source": [
    "path         = '../data/'\n",
    "data         = 'compras.csv'\n",
    "df_compras   = pd.read_csv(path + data, encoding=\"utf-8\", dtype=str)"
   ]
  },
  {
   "cell_type": "code",
   "execution_count": 5,
   "metadata": {},
   "outputs": [
    {
     "data": {
      "text/html": [
       "<div>\n",
       "<style scoped>\n",
       "    .dataframe tbody tr th:only-of-type {\n",
       "        vertical-align: middle;\n",
       "    }\n",
       "\n",
       "    .dataframe tbody tr th {\n",
       "        vertical-align: top;\n",
       "    }\n",
       "\n",
       "    .dataframe thead th {\n",
       "        text-align: right;\n",
       "    }\n",
       "</style>\n",
       "<table border=\"1\" class=\"dataframe\">\n",
       "  <thead>\n",
       "    <tr style=\"text-align: right;\">\n",
       "      <th></th>\n",
       "      <th>data_publicacao</th>\n",
       "      <th>processo</th>\n",
       "      <th>valor_estimado</th>\n",
       "      <th>href_itens</th>\n",
       "    </tr>\n",
       "  </thead>\n",
       "  <tbody>\n",
       "    <tr>\n",
       "      <th>0</th>\n",
       "      <td>2019-02-04T00:00:00</td>\n",
       "      <td>23067.066479/201</td>\n",
       "      <td>150000.0</td>\n",
       "      <td>/compraSemLicitacao/id/item_slicitacao/1530450...</td>\n",
       "    </tr>\n",
       "    <tr>\n",
       "      <th>1</th>\n",
       "      <td>2019-02-07T00:00:00</td>\n",
       "      <td>44103/2018-40</td>\n",
       "      <td>7839110.0</td>\n",
       "      <td>/compraSemLicitacao/id/item_slicitacao/1530450...</td>\n",
       "    </tr>\n",
       "    <tr>\n",
       "      <th>2</th>\n",
       "      <td>2019-02-22T00:00:00</td>\n",
       "      <td>048813/2018-49</td>\n",
       "      <td>756804.0</td>\n",
       "      <td>/compraSemLicitacao/id/item_slicitacao/1530450...</td>\n",
       "    </tr>\n",
       "    <tr>\n",
       "      <th>3</th>\n",
       "      <td>2019-02-25T00:00:00</td>\n",
       "      <td>23167/2017-26</td>\n",
       "      <td>384000.0</td>\n",
       "      <td>/compraSemLicitacao/id/item_slicitacao/1530450...</td>\n",
       "    </tr>\n",
       "    <tr>\n",
       "      <th>4</th>\n",
       "      <td>2019-03-06T00:00:00</td>\n",
       "      <td>69400/2018-06</td>\n",
       "      <td>576000.0</td>\n",
       "      <td>/compraSemLicitacao/id/item_slicitacao/1530450...</td>\n",
       "    </tr>\n",
       "  </tbody>\n",
       "</table>\n",
       "</div>"
      ],
      "text/plain": [
       "       data_publicacao           processo valor_estimado  \\\n",
       "0  2019-02-04T00:00:00   23067.066479/201       150000.0   \n",
       "1  2019-02-07T00:00:00  44103/2018-40          7839110.0   \n",
       "2  2019-02-22T00:00:00  048813/2018-49          756804.0   \n",
       "3  2019-02-25T00:00:00  23167/2017-26           384000.0   \n",
       "4  2019-03-06T00:00:00  69400/2018-06           576000.0   \n",
       "\n",
       "                                          href_itens  \n",
       "0  /compraSemLicitacao/id/item_slicitacao/1530450...  \n",
       "1  /compraSemLicitacao/id/item_slicitacao/1530450...  \n",
       "2  /compraSemLicitacao/id/item_slicitacao/1530450...  \n",
       "3  /compraSemLicitacao/id/item_slicitacao/1530450...  \n",
       "4  /compraSemLicitacao/id/item_slicitacao/1530450...  "
      ]
     },
     "execution_count": 5,
     "metadata": {},
     "output_type": "execute_result"
    }
   ],
   "source": [
    "df_compras.head()"
   ]
  },
  {
   "cell_type": "code",
   "execution_count": 6,
   "metadata": {},
   "outputs": [],
   "source": [
    "df_compras.href_itens = df_compras.href_itens.astype(str)"
   ]
  },
  {
   "cell_type": "code",
   "execution_count": 19,
   "metadata": {},
   "outputs": [],
   "source": [
    "df_compras[\"valor_estimado\"] = pd.to_numeric(df_compras[\"valor_estimado\"])"
   ]
  },
  {
   "cell_type": "code",
   "execution_count": 7,
   "metadata": {},
   "outputs": [],
   "source": [
    "def compra(txt):\n",
    "    return (txt.split('/')[4])"
   ]
  },
  {
   "cell_type": "code",
   "execution_count": 8,
   "metadata": {},
   "outputs": [],
   "source": [
    "df_compras['compra']  =  df_compras['href_itens'].apply(lambda x: compra((x)))"
   ]
  },
  {
   "cell_type": "code",
   "execution_count": 9,
   "metadata": {},
   "outputs": [
    {
     "data": {
      "text/html": [
       "<div>\n",
       "<style scoped>\n",
       "    .dataframe tbody tr th:only-of-type {\n",
       "        vertical-align: middle;\n",
       "    }\n",
       "\n",
       "    .dataframe tbody tr th {\n",
       "        vertical-align: top;\n",
       "    }\n",
       "\n",
       "    .dataframe thead th {\n",
       "        text-align: right;\n",
       "    }\n",
       "</style>\n",
       "<table border=\"1\" class=\"dataframe\">\n",
       "  <thead>\n",
       "    <tr style=\"text-align: right;\">\n",
       "      <th></th>\n",
       "      <th>data_publicacao</th>\n",
       "      <th>processo</th>\n",
       "      <th>valor_estimado</th>\n",
       "      <th>href_itens</th>\n",
       "      <th>compra</th>\n",
       "    </tr>\n",
       "  </thead>\n",
       "  <tbody>\n",
       "    <tr>\n",
       "      <th>0</th>\n",
       "      <td>2019-02-04T00:00:00</td>\n",
       "      <td>23067.066479/201</td>\n",
       "      <td>150000.0</td>\n",
       "      <td>/compraSemLicitacao/id/item_slicitacao/1530450...</td>\n",
       "      <td>15304507000012019</td>\n",
       "    </tr>\n",
       "    <tr>\n",
       "      <th>1</th>\n",
       "      <td>2019-02-07T00:00:00</td>\n",
       "      <td>44103/2018-40</td>\n",
       "      <td>7839110.0</td>\n",
       "      <td>/compraSemLicitacao/id/item_slicitacao/1530450...</td>\n",
       "      <td>15304506000032019</td>\n",
       "    </tr>\n",
       "    <tr>\n",
       "      <th>2</th>\n",
       "      <td>2019-02-22T00:00:00</td>\n",
       "      <td>048813/2018-49</td>\n",
       "      <td>756804.0</td>\n",
       "      <td>/compraSemLicitacao/id/item_slicitacao/1530450...</td>\n",
       "      <td>15304506000072019</td>\n",
       "    </tr>\n",
       "    <tr>\n",
       "      <th>3</th>\n",
       "      <td>2019-02-25T00:00:00</td>\n",
       "      <td>23167/2017-26</td>\n",
       "      <td>384000.0</td>\n",
       "      <td>/compraSemLicitacao/id/item_slicitacao/1530450...</td>\n",
       "      <td>15304506000082019</td>\n",
       "    </tr>\n",
       "    <tr>\n",
       "      <th>4</th>\n",
       "      <td>2019-03-06T00:00:00</td>\n",
       "      <td>69400/2018-06</td>\n",
       "      <td>576000.0</td>\n",
       "      <td>/compraSemLicitacao/id/item_slicitacao/1530450...</td>\n",
       "      <td>15304506000102019</td>\n",
       "    </tr>\n",
       "  </tbody>\n",
       "</table>\n",
       "</div>"
      ],
      "text/plain": [
       "       data_publicacao           processo valor_estimado  \\\n",
       "0  2019-02-04T00:00:00   23067.066479/201       150000.0   \n",
       "1  2019-02-07T00:00:00  44103/2018-40          7839110.0   \n",
       "2  2019-02-22T00:00:00  048813/2018-49          756804.0   \n",
       "3  2019-02-25T00:00:00  23167/2017-26           384000.0   \n",
       "4  2019-03-06T00:00:00  69400/2018-06           576000.0   \n",
       "\n",
       "                                          href_itens             compra  \n",
       "0  /compraSemLicitacao/id/item_slicitacao/1530450...  15304507000012019  \n",
       "1  /compraSemLicitacao/id/item_slicitacao/1530450...  15304506000032019  \n",
       "2  /compraSemLicitacao/id/item_slicitacao/1530450...  15304506000072019  \n",
       "3  /compraSemLicitacao/id/item_slicitacao/1530450...  15304506000082019  \n",
       "4  /compraSemLicitacao/id/item_slicitacao/1530450...  15304506000102019  "
      ]
     },
     "execution_count": 9,
     "metadata": {},
     "output_type": "execute_result"
    }
   ],
   "source": [
    "df_compras.head()"
   ]
  },
  {
   "cell_type": "code",
   "execution_count": 10,
   "metadata": {},
   "outputs": [],
   "source": [
    "df_compras = df_compras[['compra', 'processo', 'data_publicacao', 'href_itens', 'valor_estimado']]"
   ]
  },
  {
   "cell_type": "code",
   "execution_count": 11,
   "metadata": {},
   "outputs": [
    {
     "data": {
      "text/html": [
       "<div>\n",
       "<style scoped>\n",
       "    .dataframe tbody tr th:only-of-type {\n",
       "        vertical-align: middle;\n",
       "    }\n",
       "\n",
       "    .dataframe tbody tr th {\n",
       "        vertical-align: top;\n",
       "    }\n",
       "\n",
       "    .dataframe thead th {\n",
       "        text-align: right;\n",
       "    }\n",
       "</style>\n",
       "<table border=\"1\" class=\"dataframe\">\n",
       "  <thead>\n",
       "    <tr style=\"text-align: right;\">\n",
       "      <th></th>\n",
       "      <th>compra</th>\n",
       "      <th>processo</th>\n",
       "      <th>data_publicacao</th>\n",
       "      <th>href_itens</th>\n",
       "      <th>valor_estimado</th>\n",
       "    </tr>\n",
       "  </thead>\n",
       "  <tbody>\n",
       "    <tr>\n",
       "      <th>0</th>\n",
       "      <td>15304507000012019</td>\n",
       "      <td>23067.066479/201</td>\n",
       "      <td>2019-02-04T00:00:00</td>\n",
       "      <td>/compraSemLicitacao/id/item_slicitacao/1530450...</td>\n",
       "      <td>150000.0</td>\n",
       "    </tr>\n",
       "    <tr>\n",
       "      <th>1</th>\n",
       "      <td>15304506000032019</td>\n",
       "      <td>44103/2018-40</td>\n",
       "      <td>2019-02-07T00:00:00</td>\n",
       "      <td>/compraSemLicitacao/id/item_slicitacao/1530450...</td>\n",
       "      <td>7839110.0</td>\n",
       "    </tr>\n",
       "    <tr>\n",
       "      <th>2</th>\n",
       "      <td>15304506000072019</td>\n",
       "      <td>048813/2018-49</td>\n",
       "      <td>2019-02-22T00:00:00</td>\n",
       "      <td>/compraSemLicitacao/id/item_slicitacao/1530450...</td>\n",
       "      <td>756804.0</td>\n",
       "    </tr>\n",
       "    <tr>\n",
       "      <th>3</th>\n",
       "      <td>15304506000082019</td>\n",
       "      <td>23167/2017-26</td>\n",
       "      <td>2019-02-25T00:00:00</td>\n",
       "      <td>/compraSemLicitacao/id/item_slicitacao/1530450...</td>\n",
       "      <td>384000.0</td>\n",
       "    </tr>\n",
       "    <tr>\n",
       "      <th>4</th>\n",
       "      <td>15304506000102019</td>\n",
       "      <td>69400/2018-06</td>\n",
       "      <td>2019-03-06T00:00:00</td>\n",
       "      <td>/compraSemLicitacao/id/item_slicitacao/1530450...</td>\n",
       "      <td>576000.0</td>\n",
       "    </tr>\n",
       "  </tbody>\n",
       "</table>\n",
       "</div>"
      ],
      "text/plain": [
       "              compra           processo      data_publicacao  \\\n",
       "0  15304507000012019   23067.066479/201  2019-02-04T00:00:00   \n",
       "1  15304506000032019  44103/2018-40      2019-02-07T00:00:00   \n",
       "2  15304506000072019  048813/2018-49     2019-02-22T00:00:00   \n",
       "3  15304506000082019  23167/2017-26      2019-02-25T00:00:00   \n",
       "4  15304506000102019  69400/2018-06      2019-03-06T00:00:00   \n",
       "\n",
       "                                          href_itens valor_estimado  \n",
       "0  /compraSemLicitacao/id/item_slicitacao/1530450...       150000.0  \n",
       "1  /compraSemLicitacao/id/item_slicitacao/1530450...      7839110.0  \n",
       "2  /compraSemLicitacao/id/item_slicitacao/1530450...       756804.0  \n",
       "3  /compraSemLicitacao/id/item_slicitacao/1530450...       384000.0  \n",
       "4  /compraSemLicitacao/id/item_slicitacao/1530450...       576000.0  "
      ]
     },
     "execution_count": 11,
     "metadata": {},
     "output_type": "execute_result"
    }
   ],
   "source": [
    "df_compras.head()"
   ]
  },
  {
   "cell_type": "code",
   "execution_count": 11,
   "metadata": {},
   "outputs": [],
   "source": [
    "data = 'dfcompras.csv'\n",
    "df_compras.to_csv(path + data, index = None)"
   ]
  },
  {
   "cell_type": "code",
   "execution_count": 26,
   "metadata": {},
   "outputs": [
    {
     "data": {
      "text/plain": [
       "'pt_BR.UTF-8'"
      ]
     },
     "execution_count": 26,
     "metadata": {},
     "output_type": "execute_result"
    }
   ],
   "source": [
    "locale.setlocale(locale.LC_ALL, 'pt_BR.UTF-8')"
   ]
  },
  {
   "cell_type": "code",
   "execution_count": 12,
   "metadata": {},
   "outputs": [
    {
     "data": {
      "text/plain": [
       "46"
      ]
     },
     "execution_count": 12,
     "metadata": {},
     "output_type": "execute_result"
    }
   ],
   "source": [
    "len(df_compras)"
   ]
  },
  {
   "cell_type": "code",
   "execution_count": 29,
   "metadata": {},
   "outputs": [
    {
     "name": "stdout",
     "output_type": "stream",
     "text": [
      "267,00\n"
     ]
    }
   ],
   "source": [
    "valor = locale.currency(df_compras.valor_estimado.min() , grouping=True, symbol=None)\n",
    "print(valor)"
   ]
  },
  {
   "cell_type": "code",
   "execution_count": 28,
   "metadata": {},
   "outputs": [
    {
     "name": "stdout",
     "output_type": "stream",
     "text": [
      "30.234.118,00\n"
     ]
    }
   ],
   "source": [
    "valor = locale.currency(df_compras.valor_estimado.max() , grouping=True, symbol=None)\n",
    "print(valor)"
   ]
  },
  {
   "cell_type": "code",
   "execution_count": 27,
   "metadata": {},
   "outputs": [
    {
     "name": "stdout",
     "output_type": "stream",
     "text": [
      "2.248.164,93\n"
     ]
    }
   ],
   "source": [
    "valor = locale.currency(df_compras.valor_estimado.mean() , grouping=True, symbol=None)\n",
    "print(valor)"
   ]
  },
  {
   "cell_type": "code",
   "execution_count": 30,
   "metadata": {},
   "outputs": [],
   "source": [
    "path         = '../data/'\n",
    "data         = 'itens.csv'\n",
    "df_itens     = pd.read_csv(path + data, encoding=\"utf-8\", dtype=str)"
   ]
  },
  {
   "cell_type": "code",
   "execution_count": 31,
   "metadata": {},
   "outputs": [
    {
     "data": {
      "text/html": [
       "<div>\n",
       "<style scoped>\n",
       "    .dataframe tbody tr th:only-of-type {\n",
       "        vertical-align: middle;\n",
       "    }\n",
       "\n",
       "    .dataframe tbody tr th {\n",
       "        vertical-align: top;\n",
       "    }\n",
       "\n",
       "    .dataframe thead th {\n",
       "        text-align: right;\n",
       "    }\n",
       "</style>\n",
       "<table border=\"1\" class=\"dataframe\">\n",
       "  <thead>\n",
       "    <tr style=\"text-align: right;\">\n",
       "      <th></th>\n",
       "      <th>co_servico</th>\n",
       "      <th>co_conjunto_materiais</th>\n",
       "      <th>no_servico</th>\n",
       "      <th>no_conjunto_materiais</th>\n",
       "      <th>ds_detalhada</th>\n",
       "      <th>qt_material_alt</th>\n",
       "      <th>no_unidade_medida</th>\n",
       "      <th>vr_estimado</th>\n",
       "      <th>no_marca_material</th>\n",
       "      <th>ds_tipo_fornecedor_vencedor</th>\n",
       "      <th>nu_cpf_vencedor</th>\n",
       "      <th>nu_cnpj_vencedor</th>\n",
       "      <th>fornecedor</th>\n",
       "      <th>_links</th>\n",
       "    </tr>\n",
       "  </thead>\n",
       "  <tbody>\n",
       "    <tr>\n",
       "      <th>0</th>\n",
       "      <td>NaN</td>\n",
       "      <td>150721</td>\n",
       "      <td>NaN</td>\n",
       "      <td>NaN</td>\n",
       "      <td>NaN</td>\n",
       "      <td>1</td>\n",
       "      <td>UNIDADE</td>\n",
       "      <td>150000.0</td>\n",
       "      <td>SM</td>\n",
       "      <td>PF</td>\n",
       "      <td>NaN</td>\n",
       "      <td>NaN</td>\n",
       "      <td>ESTRANGEIRO</td>\n",
       "      <td>{'self': {'href': '/compraSemLicitacao/id/item...</td>\n",
       "    </tr>\n",
       "    <tr>\n",
       "      <th>1</th>\n",
       "      <td>4120</td>\n",
       "      <td>NaN</td>\n",
       "      <td>ENERGIA ELETRICA - FORNECIMENTO MERCADO REGULADO</td>\n",
       "      <td>NaN</td>\n",
       "      <td>Fornecimento de Energia Elétrica em 69.000 Vol...</td>\n",
       "      <td>1</td>\n",
       "      <td>unidade</td>\n",
       "      <td>7839110.47</td>\n",
       "      <td>NaN</td>\n",
       "      <td>PJ</td>\n",
       "      <td>NaN</td>\n",
       "      <td>07047251000170</td>\n",
       "      <td>NaN</td>\n",
       "      <td>{'self': {'href': '/compraSemLicitacao/id/item...</td>\n",
       "    </tr>\n",
       "    <tr>\n",
       "      <th>2</th>\n",
       "      <td>5380</td>\n",
       "      <td>NaN</td>\n",
       "      <td>PRESTACAO DE SERVICOS DE APOIO ADMINISTRATIVO</td>\n",
       "      <td>NaN</td>\n",
       "      <td>Gerenciamento administrativo e financeiro do P...</td>\n",
       "      <td>1</td>\n",
       "      <td>unidade</td>\n",
       "      <td>756804.16</td>\n",
       "      <td>NaN</td>\n",
       "      <td>PJ</td>\n",
       "      <td>NaN</td>\n",
       "      <td>08918421000108</td>\n",
       "      <td>NaN</td>\n",
       "      <td>{'self': {'href': '/compraSemLicitacao/id/item...</td>\n",
       "    </tr>\n",
       "    <tr>\n",
       "      <th>3</th>\n",
       "      <td>5380</td>\n",
       "      <td>NaN</td>\n",
       "      <td>PRESTACAO DE SERVICOS DE APOIO ADMINISTRATIVO</td>\n",
       "      <td>NaN</td>\n",
       "      <td>Gestão administrativa e financeira, de recurso...</td>\n",
       "      <td>1</td>\n",
       "      <td>unidade</td>\n",
       "      <td>384000.0</td>\n",
       "      <td>NaN</td>\n",
       "      <td>PJ</td>\n",
       "      <td>NaN</td>\n",
       "      <td>08918421000108</td>\n",
       "      <td>NaN</td>\n",
       "      <td>{'self': {'href': '/compraSemLicitacao/id/item...</td>\n",
       "    </tr>\n",
       "    <tr>\n",
       "      <th>4</th>\n",
       "      <td>5380</td>\n",
       "      <td>NaN</td>\n",
       "      <td>PRESTACAO DE SERVICOS DE APOIO ADMINISTRATIVO</td>\n",
       "      <td>NaN</td>\n",
       "      <td>Obter o apoio da CONTRATADA para captar e rece...</td>\n",
       "      <td>1</td>\n",
       "      <td>unidade</td>\n",
       "      <td>576000.0</td>\n",
       "      <td>NaN</td>\n",
       "      <td>PJ</td>\n",
       "      <td>NaN</td>\n",
       "      <td>08918421000108</td>\n",
       "      <td>NaN</td>\n",
       "      <td>{'self': {'href': '/compraSemLicitacao/id/item...</td>\n",
       "    </tr>\n",
       "  </tbody>\n",
       "</table>\n",
       "</div>"
      ],
      "text/plain": [
       "  co_servico co_conjunto_materiais  \\\n",
       "0        NaN                150721   \n",
       "1       4120                   NaN   \n",
       "2       5380                   NaN   \n",
       "3       5380                   NaN   \n",
       "4       5380                   NaN   \n",
       "\n",
       "                                         no_servico no_conjunto_materiais  \\\n",
       "0                                               NaN                   NaN   \n",
       "1  ENERGIA ELETRICA - FORNECIMENTO MERCADO REGULADO                   NaN   \n",
       "2     PRESTACAO DE SERVICOS DE APOIO ADMINISTRATIVO                   NaN   \n",
       "3     PRESTACAO DE SERVICOS DE APOIO ADMINISTRATIVO                   NaN   \n",
       "4     PRESTACAO DE SERVICOS DE APOIO ADMINISTRATIVO                   NaN   \n",
       "\n",
       "                                        ds_detalhada qt_material_alt  \\\n",
       "0                                                NaN               1   \n",
       "1  Fornecimento de Energia Elétrica em 69.000 Vol...               1   \n",
       "2  Gerenciamento administrativo e financeiro do P...               1   \n",
       "3  Gestão administrativa e financeira, de recurso...               1   \n",
       "4  Obter o apoio da CONTRATADA para captar e rece...               1   \n",
       "\n",
       "  no_unidade_medida vr_estimado no_marca_material ds_tipo_fornecedor_vencedor  \\\n",
       "0           UNIDADE    150000.0                SM                          PF   \n",
       "1           unidade  7839110.47               NaN                          PJ   \n",
       "2           unidade   756804.16               NaN                          PJ   \n",
       "3           unidade    384000.0               NaN                          PJ   \n",
       "4           unidade    576000.0               NaN                          PJ   \n",
       "\n",
       "  nu_cpf_vencedor nu_cnpj_vencedor   fornecedor  \\\n",
       "0             NaN              NaN  ESTRANGEIRO   \n",
       "1             NaN   07047251000170          NaN   \n",
       "2             NaN   08918421000108          NaN   \n",
       "3             NaN   08918421000108          NaN   \n",
       "4             NaN   08918421000108          NaN   \n",
       "\n",
       "                                              _links  \n",
       "0  {'self': {'href': '/compraSemLicitacao/id/item...  \n",
       "1  {'self': {'href': '/compraSemLicitacao/id/item...  \n",
       "2  {'self': {'href': '/compraSemLicitacao/id/item...  \n",
       "3  {'self': {'href': '/compraSemLicitacao/id/item...  \n",
       "4  {'self': {'href': '/compraSemLicitacao/id/item...  "
      ]
     },
     "execution_count": 31,
     "metadata": {},
     "output_type": "execute_result"
    }
   ],
   "source": [
    "df_itens.head()"
   ]
  },
  {
   "cell_type": "code",
   "execution_count": 32,
   "metadata": {},
   "outputs": [
    {
     "data": {
      "text/plain": [
       "Index(['co_servico', 'co_conjunto_materiais', 'no_servico',\n",
       "       'no_conjunto_materiais', 'ds_detalhada', 'qt_material_alt',\n",
       "       'no_unidade_medida', 'vr_estimado', 'no_marca_material',\n",
       "       'ds_tipo_fornecedor_vencedor', 'nu_cpf_vencedor', 'nu_cnpj_vencedor',\n",
       "       'fornecedor', '_links'],\n",
       "      dtype='object')"
      ]
     },
     "execution_count": 32,
     "metadata": {},
     "output_type": "execute_result"
    }
   ],
   "source": [
    "df_itens.columns"
   ]
  },
  {
   "cell_type": "code",
   "execution_count": 39,
   "metadata": {},
   "outputs": [],
   "source": [
    "lista_fornecedor_pjuridica = df_itens['nu_cnpj_vencedor'].value_counts()\n",
    "lista_fornecedor_pfisica   = df_itens['nu_cpf_vencedor'].value_counts()"
   ]
  },
  {
   "cell_type": "code",
   "execution_count": 38,
   "metadata": {},
   "outputs": [
    {
     "data": {
      "text/plain": [
       "08918421000108    57\n",
       "05330436000162    21\n",
       "31302808000157    15\n",
       "10498974000109    12\n",
       "13859951000162     9\n",
       "90347840001190     6\n",
       "35963479000146     6\n",
       "42595652000166     6\n",
       "07047251000170     6\n",
       "07955535000165     6\n",
       "01921606000122     6\n",
       "07797967000195     6\n",
       "23674714000180     6\n",
       "23436077000104     6\n",
       "07885170000140     3\n",
       "06787479000134     3\n",
       "31668444000123     3\n",
       "09675367000180     3\n",
       "11615516000167     3\n",
       "20061633000117     3\n",
       "Name: nu_cnpj_vencedor, dtype: int64"
      ]
     },
     "execution_count": 38,
     "metadata": {},
     "output_type": "execute_result"
    }
   ],
   "source": [
    "lista_fornecedor_pjuridica"
   ]
  },
  {
   "cell_type": "code",
   "execution_count": 40,
   "metadata": {},
   "outputs": [
    {
     "data": {
      "text/plain": [
       "Series([], Name: nu_cpf_vencedor, dtype: int64)"
      ]
     },
     "execution_count": 40,
     "metadata": {},
     "output_type": "execute_result"
    }
   ],
   "source": [
    "lista_fornecedor_pfisica"
   ]
  },
  {
   "cell_type": "code",
   "execution_count": 41,
   "metadata": {},
   "outputs": [],
   "source": [
    "def compra(txt):\n",
    "    return (txt.split('/')[4])"
   ]
  },
  {
   "cell_type": "code",
   "execution_count": 43,
   "metadata": {},
   "outputs": [],
   "source": [
    "df_itens['compra']  =  df_itens['_links'].apply(lambda x: compra((x)))"
   ]
  },
  {
   "cell_type": "code",
   "execution_count": 44,
   "metadata": {},
   "outputs": [
    {
     "data": {
      "text/html": [
       "<div>\n",
       "<style scoped>\n",
       "    .dataframe tbody tr th:only-of-type {\n",
       "        vertical-align: middle;\n",
       "    }\n",
       "\n",
       "    .dataframe tbody tr th {\n",
       "        vertical-align: top;\n",
       "    }\n",
       "\n",
       "    .dataframe thead th {\n",
       "        text-align: right;\n",
       "    }\n",
       "</style>\n",
       "<table border=\"1\" class=\"dataframe\">\n",
       "  <thead>\n",
       "    <tr style=\"text-align: right;\">\n",
       "      <th></th>\n",
       "      <th>co_servico</th>\n",
       "      <th>co_conjunto_materiais</th>\n",
       "      <th>no_servico</th>\n",
       "      <th>no_conjunto_materiais</th>\n",
       "      <th>ds_detalhada</th>\n",
       "      <th>qt_material_alt</th>\n",
       "      <th>no_unidade_medida</th>\n",
       "      <th>vr_estimado</th>\n",
       "      <th>no_marca_material</th>\n",
       "      <th>ds_tipo_fornecedor_vencedor</th>\n",
       "      <th>nu_cpf_vencedor</th>\n",
       "      <th>nu_cnpj_vencedor</th>\n",
       "      <th>fornecedor</th>\n",
       "      <th>_links</th>\n",
       "      <th>compra</th>\n",
       "    </tr>\n",
       "  </thead>\n",
       "  <tbody>\n",
       "    <tr>\n",
       "      <th>0</th>\n",
       "      <td>NaN</td>\n",
       "      <td>150721</td>\n",
       "      <td>NaN</td>\n",
       "      <td>NaN</td>\n",
       "      <td>NaN</td>\n",
       "      <td>1</td>\n",
       "      <td>UNIDADE</td>\n",
       "      <td>150000.0</td>\n",
       "      <td>SM</td>\n",
       "      <td>PF</td>\n",
       "      <td>NaN</td>\n",
       "      <td>NaN</td>\n",
       "      <td>ESTRANGEIRO</td>\n",
       "      <td>{'self': {'href': '/compraSemLicitacao/id/item...</td>\n",
       "      <td>15304507000012019</td>\n",
       "    </tr>\n",
       "    <tr>\n",
       "      <th>1</th>\n",
       "      <td>4120</td>\n",
       "      <td>NaN</td>\n",
       "      <td>ENERGIA ELETRICA - FORNECIMENTO MERCADO REGULADO</td>\n",
       "      <td>NaN</td>\n",
       "      <td>Fornecimento de Energia Elétrica em 69.000 Vol...</td>\n",
       "      <td>1</td>\n",
       "      <td>unidade</td>\n",
       "      <td>7839110.47</td>\n",
       "      <td>NaN</td>\n",
       "      <td>PJ</td>\n",
       "      <td>NaN</td>\n",
       "      <td>07047251000170</td>\n",
       "      <td>NaN</td>\n",
       "      <td>{'self': {'href': '/compraSemLicitacao/id/item...</td>\n",
       "      <td>15304506000032019</td>\n",
       "    </tr>\n",
       "    <tr>\n",
       "      <th>2</th>\n",
       "      <td>5380</td>\n",
       "      <td>NaN</td>\n",
       "      <td>PRESTACAO DE SERVICOS DE APOIO ADMINISTRATIVO</td>\n",
       "      <td>NaN</td>\n",
       "      <td>Gerenciamento administrativo e financeiro do P...</td>\n",
       "      <td>1</td>\n",
       "      <td>unidade</td>\n",
       "      <td>756804.16</td>\n",
       "      <td>NaN</td>\n",
       "      <td>PJ</td>\n",
       "      <td>NaN</td>\n",
       "      <td>08918421000108</td>\n",
       "      <td>NaN</td>\n",
       "      <td>{'self': {'href': '/compraSemLicitacao/id/item...</td>\n",
       "      <td>15304506000072019</td>\n",
       "    </tr>\n",
       "    <tr>\n",
       "      <th>3</th>\n",
       "      <td>5380</td>\n",
       "      <td>NaN</td>\n",
       "      <td>PRESTACAO DE SERVICOS DE APOIO ADMINISTRATIVO</td>\n",
       "      <td>NaN</td>\n",
       "      <td>Gestão administrativa e financeira, de recurso...</td>\n",
       "      <td>1</td>\n",
       "      <td>unidade</td>\n",
       "      <td>384000.0</td>\n",
       "      <td>NaN</td>\n",
       "      <td>PJ</td>\n",
       "      <td>NaN</td>\n",
       "      <td>08918421000108</td>\n",
       "      <td>NaN</td>\n",
       "      <td>{'self': {'href': '/compraSemLicitacao/id/item...</td>\n",
       "      <td>15304506000082019</td>\n",
       "    </tr>\n",
       "    <tr>\n",
       "      <th>4</th>\n",
       "      <td>5380</td>\n",
       "      <td>NaN</td>\n",
       "      <td>PRESTACAO DE SERVICOS DE APOIO ADMINISTRATIVO</td>\n",
       "      <td>NaN</td>\n",
       "      <td>Obter o apoio da CONTRATADA para captar e rece...</td>\n",
       "      <td>1</td>\n",
       "      <td>unidade</td>\n",
       "      <td>576000.0</td>\n",
       "      <td>NaN</td>\n",
       "      <td>PJ</td>\n",
       "      <td>NaN</td>\n",
       "      <td>08918421000108</td>\n",
       "      <td>NaN</td>\n",
       "      <td>{'self': {'href': '/compraSemLicitacao/id/item...</td>\n",
       "      <td>15304506000102019</td>\n",
       "    </tr>\n",
       "  </tbody>\n",
       "</table>\n",
       "</div>"
      ],
      "text/plain": [
       "  co_servico co_conjunto_materiais  \\\n",
       "0        NaN                150721   \n",
       "1       4120                   NaN   \n",
       "2       5380                   NaN   \n",
       "3       5380                   NaN   \n",
       "4       5380                   NaN   \n",
       "\n",
       "                                         no_servico no_conjunto_materiais  \\\n",
       "0                                               NaN                   NaN   \n",
       "1  ENERGIA ELETRICA - FORNECIMENTO MERCADO REGULADO                   NaN   \n",
       "2     PRESTACAO DE SERVICOS DE APOIO ADMINISTRATIVO                   NaN   \n",
       "3     PRESTACAO DE SERVICOS DE APOIO ADMINISTRATIVO                   NaN   \n",
       "4     PRESTACAO DE SERVICOS DE APOIO ADMINISTRATIVO                   NaN   \n",
       "\n",
       "                                        ds_detalhada qt_material_alt  \\\n",
       "0                                                NaN               1   \n",
       "1  Fornecimento de Energia Elétrica em 69.000 Vol...               1   \n",
       "2  Gerenciamento administrativo e financeiro do P...               1   \n",
       "3  Gestão administrativa e financeira, de recurso...               1   \n",
       "4  Obter o apoio da CONTRATADA para captar e rece...               1   \n",
       "\n",
       "  no_unidade_medida vr_estimado no_marca_material ds_tipo_fornecedor_vencedor  \\\n",
       "0           UNIDADE    150000.0                SM                          PF   \n",
       "1           unidade  7839110.47               NaN                          PJ   \n",
       "2           unidade   756804.16               NaN                          PJ   \n",
       "3           unidade    384000.0               NaN                          PJ   \n",
       "4           unidade    576000.0               NaN                          PJ   \n",
       "\n",
       "  nu_cpf_vencedor nu_cnpj_vencedor   fornecedor  \\\n",
       "0             NaN              NaN  ESTRANGEIRO   \n",
       "1             NaN   07047251000170          NaN   \n",
       "2             NaN   08918421000108          NaN   \n",
       "3             NaN   08918421000108          NaN   \n",
       "4             NaN   08918421000108          NaN   \n",
       "\n",
       "                                              _links             compra  \n",
       "0  {'self': {'href': '/compraSemLicitacao/id/item...  15304507000012019  \n",
       "1  {'self': {'href': '/compraSemLicitacao/id/item...  15304506000032019  \n",
       "2  {'self': {'href': '/compraSemLicitacao/id/item...  15304506000072019  \n",
       "3  {'self': {'href': '/compraSemLicitacao/id/item...  15304506000082019  \n",
       "4  {'self': {'href': '/compraSemLicitacao/id/item...  15304506000102019  "
      ]
     },
     "execution_count": 44,
     "metadata": {},
     "output_type": "execute_result"
    }
   ],
   "source": [
    "df_itens.head()"
   ]
  },
  {
   "cell_type": "code",
   "execution_count": 45,
   "metadata": {},
   "outputs": [],
   "source": [
    "qtde_itens_compras = df_itens['compra'].value_counts()"
   ]
  },
  {
   "cell_type": "code",
   "execution_count": 62,
   "metadata": {},
   "outputs": [
    {
     "data": {
      "text/plain": [
       "15304507000052019    6\n",
       "15304507000022019    6\n",
       "15304506000202019    6\n",
       "15304506000082019    6\n",
       "15304507000102019    6\n",
       "15304506000102019    6\n",
       "15304506000182019    6\n",
       "15304506000032019    6\n",
       "15304506000142019    6\n",
       "15304506000072019    6\n",
       "15304507000042019    6\n",
       "15304507000082019    6\n",
       "15304506000172019    6\n",
       "15304506000162019    6\n",
       "15304507000112019    6\n",
       "15304506000192019    6\n",
       "15304507000072019    6\n",
       "15304507000012019    6\n",
       "15304507000032019    6\n",
       "15304507000062019    6\n",
       "15304507000092019    6\n",
       "15304506000112019    6\n",
       "15304507000332019    3\n",
       "15304506000412019    3\n",
       "15304506000462019    3\n",
       "15304507000342019    3\n",
       "15304506000402019    3\n",
       "15304506000382019    3\n",
       "15304506000232019    3\n",
       "15304506000452019    3\n",
       "15304506000252019    3\n",
       "15304506000302019    3\n",
       "15304506000312019    3\n",
       "15304507000132019    3\n",
       "15304506000242019    3\n",
       "15304506000282019    3\n",
       "15304507000352019    3\n",
       "15304507000142019    3\n",
       "15304506000292019    3\n",
       "15304506000372019    3\n",
       "15304507000162019    3\n",
       "15304506000442019    3\n",
       "15304506000432019    3\n",
       "15304506000272019    3\n",
       "Name: compra, dtype: int64"
      ]
     },
     "execution_count": 62,
     "metadata": {},
     "output_type": "execute_result"
    }
   ],
   "source": [
    "qtde_itens_compras"
   ]
  },
  {
   "cell_type": "code",
   "execution_count": 47,
   "metadata": {},
   "outputs": [
    {
     "data": {
      "text/plain": [
       "44"
      ]
     },
     "execution_count": 47,
     "metadata": {},
     "output_type": "execute_result"
    }
   ],
   "source": [
    "len(qtde_itens_compras)"
   ]
  },
  {
   "cell_type": "code",
   "execution_count": 48,
   "metadata": {},
   "outputs": [
    {
     "data": {
      "text/plain": [
       "46"
      ]
     },
     "execution_count": 48,
     "metadata": {},
     "output_type": "execute_result"
    }
   ],
   "source": [
    "len(df_compras)"
   ]
  },
  {
   "cell_type": "code",
   "execution_count": 51,
   "metadata": {},
   "outputs": [
    {
     "data": {
      "text/plain": [
       "'15304507000052019'"
      ]
     },
     "execution_count": 51,
     "metadata": {},
     "output_type": "execute_result"
    }
   ],
   "source": [
    "qtde_itens_compras.index[0]"
   ]
  },
  {
   "cell_type": "code",
   "execution_count": 59,
   "metadata": {},
   "outputs": [
    {
     "data": {
      "text/plain": [
       "6"
      ]
     },
     "execution_count": 59,
     "metadata": {},
     "output_type": "execute_result"
    }
   ],
   "source": [
    "qtde_itens_compras.get(key = '15304507000052019') "
   ]
  },
  {
   "cell_type": "code",
   "execution_count": 52,
   "metadata": {},
   "outputs": [
    {
     "data": {
      "text/html": [
       "<div>\n",
       "<style scoped>\n",
       "    .dataframe tbody tr th:only-of-type {\n",
       "        vertical-align: middle;\n",
       "    }\n",
       "\n",
       "    .dataframe tbody tr th {\n",
       "        vertical-align: top;\n",
       "    }\n",
       "\n",
       "    .dataframe thead th {\n",
       "        text-align: right;\n",
       "    }\n",
       "</style>\n",
       "<table border=\"1\" class=\"dataframe\">\n",
       "  <thead>\n",
       "    <tr style=\"text-align: right;\">\n",
       "      <th></th>\n",
       "      <th>compra</th>\n",
       "      <th>processo</th>\n",
       "      <th>data_publicacao</th>\n",
       "      <th>href_itens</th>\n",
       "      <th>valor_estimado</th>\n",
       "    </tr>\n",
       "  </thead>\n",
       "  <tbody>\n",
       "    <tr>\n",
       "      <th>0</th>\n",
       "      <td>15304507000012019</td>\n",
       "      <td>23067.066479/201</td>\n",
       "      <td>2019-02-04T00:00:00</td>\n",
       "      <td>/compraSemLicitacao/id/item_slicitacao/1530450...</td>\n",
       "      <td>150000.0</td>\n",
       "    </tr>\n",
       "    <tr>\n",
       "      <th>1</th>\n",
       "      <td>15304506000032019</td>\n",
       "      <td>44103/2018-40</td>\n",
       "      <td>2019-02-07T00:00:00</td>\n",
       "      <td>/compraSemLicitacao/id/item_slicitacao/1530450...</td>\n",
       "      <td>7839110.0</td>\n",
       "    </tr>\n",
       "    <tr>\n",
       "      <th>2</th>\n",
       "      <td>15304506000072019</td>\n",
       "      <td>048813/2018-49</td>\n",
       "      <td>2019-02-22T00:00:00</td>\n",
       "      <td>/compraSemLicitacao/id/item_slicitacao/1530450...</td>\n",
       "      <td>756804.0</td>\n",
       "    </tr>\n",
       "    <tr>\n",
       "      <th>3</th>\n",
       "      <td>15304506000082019</td>\n",
       "      <td>23167/2017-26</td>\n",
       "      <td>2019-02-25T00:00:00</td>\n",
       "      <td>/compraSemLicitacao/id/item_slicitacao/1530450...</td>\n",
       "      <td>384000.0</td>\n",
       "    </tr>\n",
       "    <tr>\n",
       "      <th>4</th>\n",
       "      <td>15304506000102019</td>\n",
       "      <td>69400/2018-06</td>\n",
       "      <td>2019-03-06T00:00:00</td>\n",
       "      <td>/compraSemLicitacao/id/item_slicitacao/1530450...</td>\n",
       "      <td>576000.0</td>\n",
       "    </tr>\n",
       "  </tbody>\n",
       "</table>\n",
       "</div>"
      ],
      "text/plain": [
       "              compra           processo      data_publicacao  \\\n",
       "0  15304507000012019   23067.066479/201  2019-02-04T00:00:00   \n",
       "1  15304506000032019  44103/2018-40      2019-02-07T00:00:00   \n",
       "2  15304506000072019  048813/2018-49     2019-02-22T00:00:00   \n",
       "3  15304506000082019  23167/2017-26      2019-02-25T00:00:00   \n",
       "4  15304506000102019  69400/2018-06      2019-03-06T00:00:00   \n",
       "\n",
       "                                          href_itens  valor_estimado  \n",
       "0  /compraSemLicitacao/id/item_slicitacao/1530450...        150000.0  \n",
       "1  /compraSemLicitacao/id/item_slicitacao/1530450...       7839110.0  \n",
       "2  /compraSemLicitacao/id/item_slicitacao/1530450...        756804.0  \n",
       "3  /compraSemLicitacao/id/item_slicitacao/1530450...        384000.0  \n",
       "4  /compraSemLicitacao/id/item_slicitacao/1530450...        576000.0  "
      ]
     },
     "execution_count": 52,
     "metadata": {},
     "output_type": "execute_result"
    }
   ],
   "source": [
    "df_compras.head()"
   ]
  },
  {
   "cell_type": "code",
   "execution_count": 61,
   "metadata": {},
   "outputs": [
    {
     "name": "stdout",
     "output_type": "stream",
     "text": [
      "15304507000012019 6\n",
      "15304506000032019 6\n",
      "15304506000072019 6\n",
      "15304506000082019 6\n",
      "15304506000102019 6\n",
      "15304507000022019 6\n",
      "15304506000112019 6\n",
      "15304506000142019 6\n",
      "15304507000032019 6\n",
      "15304507000042019 6\n",
      "15304506000162019 6\n",
      "15304507000052019 6\n",
      "15304507000062019 6\n",
      "15304507000072019 6\n",
      "15304507000082019 6\n",
      "15304506000172019 6\n",
      "15304507000092019 6\n",
      "15304507000102019 6\n",
      "15304506000182019 6\n",
      "15304506000192019 6\n",
      "15304506000202019 6\n",
      "15304507000112019 6\n",
      "15304506000222019 None\n",
      "15304507000122019 None\n",
      "15304507000132019 3\n",
      "15304506000232019 3\n",
      "15304506000242019 3\n",
      "15304506000252019 3\n",
      "15304507000142019 3\n",
      "15304506000272019 3\n",
      "15304506000282019 3\n",
      "15304506000292019 3\n",
      "15304506000302019 3\n",
      "15304506000312019 3\n",
      "15304507000162019 3\n",
      "15304506000372019 3\n",
      "15304507000332019 3\n",
      "15304507000342019 3\n",
      "15304507000352019 3\n",
      "15304506000382019 3\n",
      "15304506000402019 3\n",
      "15304506000412019 3\n",
      "15304506000432019 3\n",
      "15304506000442019 3\n",
      "15304506000452019 3\n",
      "15304506000462019 3\n"
     ]
    }
   ],
   "source": [
    "for index, row in df_compras.iterrows():\n",
    "    print(row['compra'], qtde_itens_compras.get(key = row['compra']) )"
   ]
  },
  {
   "cell_type": "code",
   "execution_count": null,
   "metadata": {},
   "outputs": [],
   "source": [
    "df_itens"
   ]
  }
 ],
 "metadata": {
  "kernelspec": {
   "display_name": "Python 3",
   "language": "python",
   "name": "python3"
  },
  "language_info": {
   "codemirror_mode": {
    "name": "ipython",
    "version": 3
   },
   "file_extension": ".py",
   "mimetype": "text/x-python",
   "name": "python",
   "nbconvert_exporter": "python",
   "pygments_lexer": "ipython3",
   "version": "3.6.9"
  }
 },
 "nbformat": 4,
 "nbformat_minor": 4
}
