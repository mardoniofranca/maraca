{
 "cells": [
  {
   "cell_type": "code",
   "execution_count": 1,
   "metadata": {},
   "outputs": [],
   "source": [
    "import pandas as pd"
   ]
  },
  {
   "cell_type": "code",
   "execution_count": 2,
   "metadata": {},
   "outputs": [],
   "source": [
    "import string"
   ]
  },
  {
   "cell_type": "code",
   "execution_count": 8,
   "metadata": {},
   "outputs": [],
   "source": [
    "#Loading the csv to a pandas DataFrame\n",
    "path         = '../data/'\n",
    "data         = 'dfcompras.csv'"
   ]
  },
  {
   "cell_type": "code",
   "execution_count": 9,
   "metadata": {},
   "outputs": [
    {
     "data": {
      "text/plain": [
       "'../data/dfcompras.csv'"
      ]
     },
     "execution_count": 9,
     "metadata": {},
     "output_type": "execute_result"
    }
   ],
   "source": [
    "path + data"
   ]
  },
  {
   "cell_type": "code",
   "execution_count": 10,
   "metadata": {},
   "outputs": [
    {
     "data": {
      "text/html": [
       "<div>\n",
       "<style scoped>\n",
       "    .dataframe tbody tr th:only-of-type {\n",
       "        vertical-align: middle;\n",
       "    }\n",
       "\n",
       "    .dataframe tbody tr th {\n",
       "        vertical-align: top;\n",
       "    }\n",
       "\n",
       "    .dataframe thead th {\n",
       "        text-align: right;\n",
       "    }\n",
       "</style>\n",
       "<table border=\"1\" class=\"dataframe\">\n",
       "  <thead>\n",
       "    <tr style=\"text-align: right;\">\n",
       "      <th></th>\n",
       "      <th>compra</th>\n",
       "      <th>processo</th>\n",
       "      <th>data_publicacao</th>\n",
       "      <th>href_itens</th>\n",
       "      <th>valor_estimado</th>\n",
       "    </tr>\n",
       "  </thead>\n",
       "  <tbody>\n",
       "    <tr>\n",
       "      <th>0</th>\n",
       "      <td>15304507000012019</td>\n",
       "      <td>23067.066479/201</td>\n",
       "      <td>2019-02-04T00:00:00</td>\n",
       "      <td>/compraSemLicitacao/id/item_slicitacao/1530450...</td>\n",
       "      <td>150000.0</td>\n",
       "    </tr>\n",
       "    <tr>\n",
       "      <th>1</th>\n",
       "      <td>15304506000032019</td>\n",
       "      <td>44103/2018-40</td>\n",
       "      <td>2019-02-07T00:00:00</td>\n",
       "      <td>/compraSemLicitacao/id/item_slicitacao/1530450...</td>\n",
       "      <td>7839110.0</td>\n",
       "    </tr>\n",
       "    <tr>\n",
       "      <th>2</th>\n",
       "      <td>15304506000072019</td>\n",
       "      <td>048813/2018-49</td>\n",
       "      <td>2019-02-22T00:00:00</td>\n",
       "      <td>/compraSemLicitacao/id/item_slicitacao/1530450...</td>\n",
       "      <td>756804.0</td>\n",
       "    </tr>\n",
       "    <tr>\n",
       "      <th>3</th>\n",
       "      <td>15304506000082019</td>\n",
       "      <td>23167/2017-26</td>\n",
       "      <td>2019-02-25T00:00:00</td>\n",
       "      <td>/compraSemLicitacao/id/item_slicitacao/1530450...</td>\n",
       "      <td>384000.0</td>\n",
       "    </tr>\n",
       "    <tr>\n",
       "      <th>4</th>\n",
       "      <td>15304506000102019</td>\n",
       "      <td>69400/2018-06</td>\n",
       "      <td>2019-03-06T00:00:00</td>\n",
       "      <td>/compraSemLicitacao/id/item_slicitacao/1530450...</td>\n",
       "      <td>576000.0</td>\n",
       "    </tr>\n",
       "  </tbody>\n",
       "</table>\n",
       "</div>"
      ],
      "text/plain": [
       "              compra           processo      data_publicacao  \\\n",
       "0  15304507000012019   23067.066479/201  2019-02-04T00:00:00   \n",
       "1  15304506000032019  44103/2018-40      2019-02-07T00:00:00   \n",
       "2  15304506000072019  048813/2018-49     2019-02-22T00:00:00   \n",
       "3  15304506000082019  23167/2017-26      2019-02-25T00:00:00   \n",
       "4  15304506000102019  69400/2018-06      2019-03-06T00:00:00   \n",
       "\n",
       "                                          href_itens valor_estimado  \n",
       "0  /compraSemLicitacao/id/item_slicitacao/1530450...       150000.0  \n",
       "1  /compraSemLicitacao/id/item_slicitacao/1530450...      7839110.0  \n",
       "2  /compraSemLicitacao/id/item_slicitacao/1530450...       756804.0  \n",
       "3  /compraSemLicitacao/id/item_slicitacao/1530450...       384000.0  \n",
       "4  /compraSemLicitacao/id/item_slicitacao/1530450...       576000.0  "
      ]
     },
     "execution_count": 10,
     "metadata": {},
     "output_type": "execute_result"
    }
   ],
   "source": [
    "df           = pd.read_csv(path + data, encoding=\"utf-8\", dtype=str)\n",
    "df.head()"
   ]
  },
  {
   "cell_type": "code",
   "execution_count": 11,
   "metadata": {},
   "outputs": [
    {
     "data": {
      "text/plain": [
       "Index(['compra', 'processo', 'data_publicacao', 'href_itens',\n",
       "       'valor_estimado'],\n",
       "      dtype='object')"
      ]
     },
     "execution_count": 11,
     "metadata": {},
     "output_type": "execute_result"
    }
   ],
   "source": [
    "df.columns"
   ]
  },
  {
   "cell_type": "code",
   "execution_count": 13,
   "metadata": {},
   "outputs": [],
   "source": [
    "import sqlite3"
   ]
  },
  {
   "cell_type": "code",
   "execution_count": 19,
   "metadata": {},
   "outputs": [],
   "source": [
    "sql = \"insert into posts_compra (codigo, compra, processo , data_publicacao, valor_estimado, \"\n",
    "sql = sql + \" valor_min, valor_medio, valor_max)\"\n",
    "sql = sql + \" values \"\n",
    "cod = 1"
   ]
  },
  {
   "cell_type": "code",
   "execution_count": 22,
   "metadata": {},
   "outputs": [
    {
     "name": "stdout",
     "output_type": "stream",
     "text": [
      "insert into posts_compra (codigo, compra, processo , data_publicacao, valor_estimado,  valor_min, valor_medio, valor_max) values (1, '15304507000012019',' 23067.066479/201', '2019-02-04T00:00:00', 150000.0);\n"
     ]
    },
    {
     "ename": "OperationalError",
     "evalue": "5 values for 8 columns",
     "output_type": "error",
     "traceback": [
      "\u001b[0;31m---------------------------------------------------------------------------\u001b[0m",
      "\u001b[0;31mOperationalError\u001b[0m                          Traceback (most recent call last)",
      "\u001b[0;32m<ipython-input-22-c2657a6a3014>\u001b[0m in \u001b[0;36m<module>\u001b[0;34m\u001b[0m\n\u001b[1;32m      5\u001b[0m     \u001b[0ml\u001b[0m \u001b[0;34m=\u001b[0m \u001b[0ml\u001b[0m \u001b[0;34m+\u001b[0m \u001b[0;34m(\u001b[0m\u001b[0mrow\u001b[0m\u001b[0;34m[\u001b[0m\u001b[0;34m'data_publicacao'\u001b[0m\u001b[0;34m]\u001b[0m\u001b[0;34m)\u001b[0m \u001b[0;34m+\u001b[0m \u001b[0;34m\"', \"\u001b[0m \u001b[0;34m+\u001b[0m \u001b[0;34m(\u001b[0m\u001b[0mrow\u001b[0m\u001b[0;34m[\u001b[0m\u001b[0;34m'valor_estimado'\u001b[0m\u001b[0;34m]\u001b[0m\u001b[0;34m)\u001b[0m \u001b[0;34m+\u001b[0m \u001b[0;34m\");\"\u001b[0m\u001b[0;34m\u001b[0m\u001b[0;34m\u001b[0m\u001b[0m\n\u001b[1;32m      6\u001b[0m     \u001b[0mprint\u001b[0m\u001b[0;34m(\u001b[0m\u001b[0msql\u001b[0m \u001b[0;34m+\u001b[0m \u001b[0ml\u001b[0m\u001b[0;34m)\u001b[0m\u001b[0;34m\u001b[0m\u001b[0;34m\u001b[0m\u001b[0m\n\u001b[0;32m----> 7\u001b[0;31m     \u001b[0mcur\u001b[0m\u001b[0;34m.\u001b[0m\u001b[0mexecute\u001b[0m\u001b[0;34m(\u001b[0m\u001b[0msql\u001b[0m \u001b[0;34m+\u001b[0m \u001b[0ml\u001b[0m\u001b[0;34m)\u001b[0m\u001b[0;34m;\u001b[0m\u001b[0;34m\u001b[0m\u001b[0;34m\u001b[0m\u001b[0m\n\u001b[0m\u001b[1;32m      8\u001b[0m     \u001b[0mcon\u001b[0m\u001b[0;34m.\u001b[0m\u001b[0mcommit\u001b[0m\u001b[0;34m(\u001b[0m\u001b[0;34m)\u001b[0m\u001b[0;34m\u001b[0m\u001b[0;34m\u001b[0m\u001b[0m\n\u001b[1;32m      9\u001b[0m     \u001b[0mprint\u001b[0m\u001b[0;34m(\u001b[0m\u001b[0;34m\"Records inserted successfully\"\u001b[0m\u001b[0;34m)\u001b[0m\u001b[0;34m\u001b[0m\u001b[0;34m\u001b[0m\u001b[0m\n",
      "\u001b[0;31mOperationalError\u001b[0m: 5 values for 8 columns"
     ]
    }
   ],
   "source": [
    "for index, row in df.head(1).iterrows():\n",
    "    con = sqlite3.connect('../db.sqlite3')\n",
    "    cur = con.cursor()\n",
    "    l = \"(\" + (str(cod) + \", '\" + row['compra']) + \"','\" + (row['processo']) + \"', '\" \n",
    "    l = l + (row['data_publicacao']) + \"', \" + (row['valor_estimado']) + \");\"\n",
    "    print(sql + l)\n",
    "    cur.execute(sql + l);\n",
    "    con.commit()\n",
    "    print(\"Records inserted successfully\")\n",
    "    cod = cod + 1   \n",
    "    con.close"
   ]
  },
  {
   "cell_type": "code",
   "execution_count": null,
   "metadata": {},
   "outputs": [],
   "source": []
  },
  {
   "cell_type": "code",
   "execution_count": null,
   "metadata": {},
   "outputs": [],
   "source": []
  },
  {
   "cell_type": "code",
   "execution_count": null,
   "metadata": {},
   "outputs": [],
   "source": []
  },
  {
   "cell_type": "code",
   "execution_count": null,
   "metadata": {},
   "outputs": [],
   "source": [
    "import pandas as pd"
   ]
  },
  {
   "cell_type": "code",
   "execution_count": null,
   "metadata": {},
   "outputs": [],
   "source": [
    "#Loading the csv to a pandas DataFrame\n",
    "data = '../data/base.csv'\n",
    "df   = pd.read_csv(data, encoding=\"utf-8\", sep=\",\")\n",
    "df.head()"
   ]
  },
  {
   "cell_type": "code",
   "execution_count": null,
   "metadata": {},
   "outputs": [],
   "source": [
    "df.tail()"
   ]
  },
  {
   "cell_type": "code",
   "execution_count": null,
   "metadata": {},
   "outputs": [],
   "source": [
    "df['LIDERANÇA'] = df['LIDERANÇA'].str.strip()\n",
    "df['CEL'] = df['CEL'].str.strip()\n",
    "df['ENDERECO'] = df['ENDERECO'].str.strip()"
   ]
  },
  {
   "cell_type": "code",
   "execution_count": null,
   "metadata": {},
   "outputs": [],
   "source": [
    "len(df)"
   ]
  },
  {
   "cell_type": "code",
   "execution_count": null,
   "metadata": {},
   "outputs": [],
   "source": [
    "df.drop_duplicates(subset =\"NOME\", \n",
    "                     keep = False, inplace = True) "
   ]
  },
  {
   "cell_type": "code",
   "execution_count": null,
   "metadata": {},
   "outputs": [],
   "source": [
    "#Loading the csv to a pandas DataFrame\n",
    "data = '../data/baselite.csv'\n",
    "df   = pd.read_csv(data, encoding=\"utf-8\", sep=\",\")\n",
    "df.head()"
   ]
  },
  {
   "cell_type": "code",
   "execution_count": null,
   "metadata": {},
   "outputs": [],
   "source": [
    "df['NOME'] = df['NOME'].str.strip()"
   ]
  },
  {
   "cell_type": "code",
   "execution_count": null,
   "metadata": {},
   "outputs": [],
   "source": [
    "df.head()"
   ]
  },
  {
   "cell_type": "code",
   "execution_count": null,
   "metadata": {},
   "outputs": [],
   "source": [
    "df = df.sort_values(by=['NOME'])"
   ]
  },
  {
   "cell_type": "code",
   "execution_count": null,
   "metadata": {},
   "outputs": [],
   "source": [
    "df.head()"
   ]
  },
  {
   "cell_type": "code",
   "execution_count": null,
   "metadata": {},
   "outputs": [],
   "source": [
    "df.tail()"
   ]
  },
  {
   "cell_type": "code",
   "execution_count": null,
   "metadata": {},
   "outputs": [],
   "source": [
    "df.to_csv('../data/base.csv', index=None)"
   ]
  },
  {
   "cell_type": "code",
   "execution_count": null,
   "metadata": {},
   "outputs": [],
   "source": []
  }
 ],
 "metadata": {
  "kernelspec": {
   "display_name": "Python 3",
   "language": "python",
   "name": "python3"
  },
  "language_info": {
   "codemirror_mode": {
    "name": "ipython",
    "version": 3
   },
   "file_extension": ".py",
   "mimetype": "text/x-python",
   "name": "python",
   "nbconvert_exporter": "python",
   "pygments_lexer": "ipython3",
   "version": "3.6.9"
  }
 },
 "nbformat": 4,
 "nbformat_minor": 4
}
